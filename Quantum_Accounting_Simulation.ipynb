
{
 "cells": [
  {
   "cell_type": "markdown",
   "metadata": {},
   "source": [
    "# 💼 Quantum Accounting Simulation\n",
    "This is a simple simulation demonstrating how quantum principles can be used in accounting — specifically, a conceptual model for **fraud detection in financial transactions** using Grover's Algorithm logic.\n",
    "\n",
    "> ⚠️ This is a classical approximation to simulate the logic — not a real quantum computer.\n",
    "\n",
    "### Author: Hajrabibi Imtiyaz Mulla\n",
    "MSc International Business, Ulster University"
   ]
  },
  {
   "cell_type": "code",
   "execution_count": null,
   "metadata": {},
   "outputs": [],
   "source": [
    "# Step 1: Import libraries\n",
    "import random\n",
    "import matplotlib.pyplot as plt\n",
    "\n",
    "# Step 2: Simulated dataset\n",
    "transactions = [f'TXN{i:03}' for i in range(1, 101)]  # 100 transactions\n",
    "fraudulent = random.choice(transactions)\n",
    "print(f"🔍 Hidden fraudulent transaction (target): {fraudulent}")"
   ]
  },
  {
   "cell_type": "code",
   "execution_count": null,
   "metadata": {},
   "outputs": [],
   "source": [
    "# Step 3: Simulated 'Grover-style' search\n",
    "def quantum_search(transactions, target):\n",
    "    attempts = 0\n",
    "    while True:\n",
    "        guess = random.choice(transactions)\n",
    "        attempts += 1\n",
    "        if guess == target:\n",
    "            return guess, attempts\n",
    "\n",
    "# Run search\n",
    "result, tries = quantum_search(transactions, fraudulent)\n",
    "print(f"✅ Found: {result} in {tries} quantum-style iterations")"
   ]
  },
  {
   "cell_type": "markdown",
   "metadata": {},
   "source": [
    "### 🧠 Interpretation\n",
    "- This demonstrates how quantum algorithms like **Grover’s** can significantly reduce search time.\n",
    "- Real quantum systems could identify fraud in vast ledgers **faster** than classical ones.\n",
    "- Your research proposes this for future **financial audits, fraud detection, and encryption**."
   ]
  }
 ],
 "metadata": {
  "colab": {
   "name": "Quantum_Accounting_Simulation.ipynb",
   "provenance": []
  },
  "kernelspec": {
   "display_name": "Python 3",
   "language": "python",
   "name": "python3"
  },
  "language_info": {
   "name": "python"
  }
 },
 "nbformat": 4,
 "nbformat_minor": 0
}
